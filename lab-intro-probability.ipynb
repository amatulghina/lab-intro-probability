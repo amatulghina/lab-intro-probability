{
 "cells": [
  {
   "cell_type": "markdown",
   "metadata": {},
   "source": [
    "# Lab | Intro to Probability"
   ]
  },
  {
   "cell_type": "markdown",
   "metadata": {},
   "source": [
    "**Objective**\n",
    "\n",
    "Welcome to this Intro to Probability lab, where we explore decision-making scenarios through the lens of probability and strategic analysis. In the business world, making informed decisions is crucial, especially when faced with uncertainties. This lab focuses on scenarios where probabilistic outcomes play a significant role in shaping strategies and outcomes. Students will engage in exercises that require assessing and choosing optimal paths based on data-driven insights. The goal is to enhance your skills by applying probability concepts to solve real-world problems."
   ]
  },
  {
   "cell_type": "markdown",
   "metadata": {},
   "source": [
    "**Challenge 1**"
   ]
  },
  {
   "cell_type": "markdown",
   "metadata": {},
   "source": [
    "#### Ironhack Airlines \n",
    "\n",
    "Often Airlines sell more tickets than they have seats available, this is called overbooking. Consider the following:\n",
    "- A plane has 450 seats. \n",
    "- Based on historical data we conclude that each individual passenger has a 3% chance of missing it's flight. \n",
    "\n",
    "If the Ironhack Airlines routinely sells 460 tickets, what is the chance that they have a seats for all passenger?"
   ]
  },
  {
   "cell_type": "code",
   "execution_count": 1,
   "metadata": {},
   "outputs": [
    {
     "name": "stdout",
     "output_type": "stream",
     "text": [
      "Probability that there are enough seats for all passengers: 88.45%\n"
     ]
    }
   ],
   "source": [
    "from scipy.stats import binom\n",
    "\n",
    "# Parameters\n",
    "n = 460  # number of tickets sold\n",
    "p = 0.03  # probability of a no-show\n",
    "\n",
    "# Calculate the probability that fewer than 10 people don't show up\n",
    "cumulative_prob = binom.cdf(9, n, p)\n",
    "\n",
    "# Probability that at least 10 people don't show up\n",
    "prob_at_least_10_no_shows = 1 - cumulative_prob\n",
    "\n",
    "# Convert to percentage\n",
    "probability_percentage = prob_at_least_10_no_shows * 100\n",
    "\n",
    "print(f\"Probability that there are enough seats for all passengers: {probability_percentage:.2f}%\")"
   ]
  },
  {
   "cell_type": "markdown",
   "metadata": {},
   "source": [
    "**Challenge 2**"
   ]
  },
  {
   "cell_type": "markdown",
   "metadata": {},
   "source": [
    "#### Ironhack Call Center "
   ]
  },
  {
   "cell_type": "markdown",
   "metadata": {},
   "source": [
    "Suppose a customer service representative at a call center is handling customer complaints. Consider the following:\n",
    "- The probability of successfully resolving a customer complaint on the first attempt is 0.3. \n",
    "\n",
    "\n",
    "What is the probability that the representative needs to make at least three attempts before successfully resolving a customer complaint?"
   ]
  },
  {
   "cell_type": "code",
   "execution_count": 3,
   "metadata": {},
   "outputs": [
    {
     "name": "stdout",
     "output_type": "stream",
     "text": [
      "Probability that at least 3 attempts are needed: 49.00%\n"
     ]
    }
   ],
   "source": [
    "from scipy.stats import geom\n",
    "\n",
    "# Probability of successfully resolving a complaint on the first attempt\n",
    "p = 0.3\n",
    "\n",
    "# Calculate the probability that the first success occurs on the 1st or 2nd attempt\n",
    "# P(X < 3) = P(X = 1) + P(X = 2)\n",
    "prob_less_than_3 = geom.cdf(2, p)\n",
    "\n",
    "# Probability that at least 3 attempts are needed\n",
    "prob_at_least_3 = 1 - prob_less_than_3\n",
    "\n",
    "# Convert to percentage\n",
    "probability_percentage = prob_at_least_3 * 100\n",
    "\n",
    "print(f\"Probability that at least 3 attempts are needed: {probability_percentage:.2f}%\")"
   ]
  },
  {
   "cell_type": "markdown",
   "metadata": {},
   "source": [
    "**Challenge 3**"
   ]
  },
  {
   "cell_type": "markdown",
   "metadata": {},
   "source": [
    "#### Ironhack Website"
   ]
  },
  {
   "cell_type": "markdown",
   "metadata": {},
   "source": [
    "Consider a scenario related to Ironhack website traffic. Where:\n",
    "- our website takes on average 500 visits per hour.\n",
    "- the website's server is designed to handle up to 550 vists per hour.\n",
    "\n",
    "\n",
    "What is the probability of the website server being overwhelmed?"
   ]
  },
  {
   "cell_type": "code",
   "execution_count": 6,
   "metadata": {},
   "outputs": [
    {
     "name": "stdout",
     "output_type": "stream",
     "text": [
      "Probability of the website server being overwhelmed: 1.29%\n"
     ]
    }
   ],
   "source": [
    "from scipy.stats import poisson\n",
    "\n",
    "# Average number of visits per hour\n",
    "lambda_visits = 500\n",
    "\n",
    "# Threshold for server overload\n",
    "threshold = 550\n",
    "\n",
    "# Calculate the cumulative probability of having up to 550 visits\n",
    "prob_upto_550 = poisson.cdf(threshold, lambda_visits)\n",
    "\n",
    "# Probability of having more than 550 visits (server being overwhelmed)\n",
    "prob_server_overwhelmed = 1 - prob_upto_550\n",
    "\n",
    "# Convert to percentage\n",
    "probability_percentage = prob_server_overwhelmed * 100\n",
    "\n",
    "print(f\"Probability of the website server being overwhelmed: {probability_percentage:.2f}%\")"
   ]
  },
  {
   "cell_type": "markdown",
   "metadata": {},
   "source": [
    "What is the probability of being overwhelmed at some point during a day? (consider 24hours)"
   ]
  },
  {
   "cell_type": "code",
   "execution_count": 8,
   "metadata": {},
   "outputs": [
    {
     "name": "stdout",
     "output_type": "stream",
     "text": [
      "Probability of being overwhelmed at least once during the day: 0.2677\n"
     ]
    }
   ],
   "source": [
    "from scipy.stats import poisson\n",
    "\n",
    "# Average number of visits per hour\n",
    "lambda_visits = 500\n",
    "\n",
    "# Threshold for server overload\n",
    "threshold = 550\n",
    "\n",
    "# Calculate the probability of being overwhelmed in one hour\n",
    "prob_server_overwhelmed_hourly = 1 - poisson.cdf(threshold, lambda_visits)\n",
    "\n",
    "# Calculate the probability of not being overwhelmed in 24 hours\n",
    "prob_not_overwhelmed_day = (1 - prob_server_overwhelmed_hourly) ** 24\n",
    "\n",
    "# Probability of being overwhelmed at least once during the day\n",
    "prob_overwhelmed_at_least_once = 1 - prob_not_overwhelmed_day\n",
    "\n",
    "print(f\"Probability of being overwhelmed at least once during the day: {prob_overwhelmed_at_least_once:.4f}\")"
   ]
  },
  {
   "cell_type": "markdown",
   "metadata": {},
   "source": [
    "**Challenge 4**"
   ]
  },
  {
   "cell_type": "markdown",
   "metadata": {},
   "source": [
    "#### Ironhack Helpdesk"
   ]
  },
  {
   "cell_type": "markdown",
   "metadata": {},
   "source": [
    "Consider a scenario related to the time between arrivals of customers at a service desk.\n",
    "\n",
    "On average, a customers arrives every 10minutes.\n",
    "\n",
    "What is the probability that the next customer will arrive within the next 5 minutes?"
   ]
  },
  {
   "cell_type": "code",
   "execution_count": 7,
   "metadata": {},
   "outputs": [
    {
     "name": "stdout",
     "output_type": "stream",
     "text": [
      "Probability that the next customer arrives within 5 minutes: 39.35%\n"
     ]
    }
   ],
   "source": [
    "from scipy.stats import expon\n",
    "\n",
    "# Average time between arrivals (in minutes)\n",
    "mean_time_between_arrivals = 10\n",
    "\n",
    "# Rate parameter (lambda) is the inverse of the mean time\n",
    "lambda_rate = 1 / mean_time_between_arrivals\n",
    "\n",
    "# Calculate the probability that the next customer arrives within 5 minutes\n",
    "time_interval = 5\n",
    "probability_within_5_minutes = expon.cdf(time_interval, scale=1/lambda_rate)\n",
    "\n",
    "# Convert to percentage\n",
    "probability_percentage = probability_within_5_minutes * 100\n",
    "\n",
    "print(f\"Probability that the next customer arrives within 5 minutes: {probability_percentage:.2f}%\")"
   ]
  },
  {
   "cell_type": "markdown",
   "metadata": {},
   "source": [
    "If there is no customer for 15minutes, employees can that a 5minutes break.\n",
    "\n",
    "What is the probability an employee taking a break?"
   ]
  },
  {
   "cell_type": "code",
   "execution_count": 10,
   "metadata": {},
   "outputs": [
    {
     "name": "stdout",
     "output_type": "stream",
     "text": [
      "Probability that no customer arrives within 15 minutes (employee can take a break): 22.31%\n"
     ]
    }
   ],
   "source": [
    "time_interval_15 = 15\n",
    "probability_no_arrival_within_15_minutes = 1 - expon.cdf(time_interval_15, scale=1/lambda_rate)\n",
    "\n",
    "# Convert to percentage\n",
    "probability_percentage = probability_no_arrival_within_15_minutes * 100\n",
    "\n",
    "print(f\"Probability that no customer arrives within 15 minutes (employee can take a break): {probability_percentage:.2f}%\")"
   ]
  },
  {
   "cell_type": "markdown",
   "metadata": {},
   "source": [
    "**Challenge 5**"
   ]
  },
  {
   "cell_type": "markdown",
   "metadata": {},
   "source": [
    "The weights of a certain species of birds follow a normal distribution with a mean weight of 150 grams and a standard deviation of 10 grams. \n",
    "\n",
    "- If we randomly select a bird, what is the probability that its weight is between 140 and 160 grams?"
   ]
  },
  {
   "cell_type": "code",
   "execution_count": 15,
   "metadata": {},
   "outputs": [
    {
     "name": "stdout",
     "output_type": "stream",
     "text": [
      "The probability of the bird's weight being between 140 cm and 160 gram is 68.27%\n"
     ]
    }
   ],
   "source": [
    "from scipy.stats import norm\n",
    "\n",
    "mean = 150\n",
    "std = 10\n",
    "\n",
    "norm_dist = norm(loc = mean, scale = std)\n",
    "\n",
    "print(f\"The probability of the bird's weight being between 140 cm and 160 gram is{(norm_dist.cdf(160) - norm_dist.cdf(140))*100: .2f}%\")"
   ]
  },
  {
   "cell_type": "markdown",
   "metadata": {},
   "source": [
    "**Challenge 6**"
   ]
  },
  {
   "cell_type": "markdown",
   "metadata": {},
   "source": [
    "If the lifetime (in hours) of a certain electronic component follows an exponential distribution with a mean lifetime of 50 hours, what is the probability that the component fails within the first 30 hours?"
   ]
  },
  {
   "cell_type": "code",
   "execution_count": 16,
   "metadata": {},
   "outputs": [
    {
     "name": "stdout",
     "output_type": "stream",
     "text": [
      "Probability that the component fails within the first 30 hours: 45.12%\n"
     ]
    }
   ],
   "source": [
    "from scipy.stats import expon\n",
    "\n",
    "# Mean lifetime of the component\n",
    "mean_lifetime = 50\n",
    "\n",
    "# Rate parameter (lambda) is the inverse of the mean lifetime\n",
    "lambda_rate = 1 / mean_lifetime\n",
    "\n",
    "# Time interval (in hours)\n",
    "time_interval = 30\n",
    "\n",
    "# Probability that the component fails within the first 30 hours\n",
    "probability_failure_within_30_hours = expon.cdf(time_interval, scale=1/lambda_rate)\n",
    "\n",
    "# Convert to percentage\n",
    "probability_percentage = probability_failure_within_30_hours * 100\n",
    "\n",
    "print(f\"Probability that the component fails within the first 30 hours: {probability_percentage:.2f}%\")"
   ]
  }
 ],
 "metadata": {
  "kernelspec": {
   "display_name": "Python 3",
   "language": "python",
   "name": "python3"
  },
  "language_info": {
   "codemirror_mode": {
    "name": "ipython",
    "version": 3
   },
   "file_extension": ".py",
   "mimetype": "text/x-python",
   "name": "python",
   "nbconvert_exporter": "python",
   "pygments_lexer": "ipython3",
   "version": "3.7.4"
  }
 },
 "nbformat": 4,
 "nbformat_minor": 4
}
